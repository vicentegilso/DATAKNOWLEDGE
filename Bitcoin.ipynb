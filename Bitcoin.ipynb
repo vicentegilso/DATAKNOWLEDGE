{
  "nbformat": 4,
  "nbformat_minor": 0,
  "metadata": {
    "colab": {
      "name": "Untitled3.ipynb",
      "provenance": [],
      "include_colab_link": true
    },
    "kernelspec": {
      "name": "python3",
      "display_name": "Python 3"
    },
    "language_info": {
      "name": "python"
    }
  },
  "cells": [
    {
      "cell_type": "markdown",
      "metadata": {
        "id": "view-in-github",
        "colab_type": "text"
      },
      "source": [
        "<a href=\"https://colab.research.google.com/github/vicentegilso/DATAKNOWLEDGE/blob/master/Bitcoin.ipynb\" target=\"_parent\"><img src=\"https://colab.research.google.com/assets/colab-badge.svg\" alt=\"Open In Colab\"/></a>"
      ]
    },
    {
      "cell_type": "code",
      "metadata": {
        "id": "fwMjpq9RcmdU"
      },
      "source": [
        "### Descargamos librerías ###\n",
        "\n",
        "\n",
        "%pip install tensorflow==2.1\n",
        "%pip install keras-tcn\n",
        "%matplotlib inline\n",
        "import tensorflow as tf\n",
        "import tensorflow.keras as keras\n",
        "from tensorflow.keras.datasets import mnist\n",
        "from tensorflow.keras.models import Sequential\n",
        "from tensorflow.keras.layers import Dense, Dropout, Flatten, Conv1D, MaxPool1D, LSTM, Input, GRU\n",
        "from tensorflow.keras import backend as K\n",
        "from tcn import TCN\n",
        "import numpy as np\n",
        "import pandas as pd\n",
        "from collections import defaultdict\n",
        "import matplotlib.pyplot as plt\n",
        "import matplotlib.ticker as ticker\n",
        "from sklearn.metrics import mean_absolute_error\n",
        "import datetime\n",
        "import random\n",
        "import math\n",
        "import datetime as dt\n",
        "from pandas_datareader import data\n",
        "\n",
        "\n"
      ],
      "execution_count": null,
      "outputs": []
    },
    {
      "cell_type": "code",
      "metadata": {
        "colab": {
          "base_uri": "https://localhost:8080/",
          "height": 235
        },
        "id": "6cNOgXHjdChg",
        "outputId": "8c5d773b-b231-4540-d76a-0192b12e5a0f"
      },
      "source": [
        "#Cargamos el histórico de Bitcoin\n",
        "\n",
        "dataset_raw = data.DataReader('BTC-EUR','yahoo', dt.datetime(2021,3,1), dt.datetime.now())\n",
        "\n",
        "dataset_raw.head()"
      ],
      "execution_count": null,
      "outputs": [
        {
          "output_type": "execute_result",
          "data": {
            "text/html": [
              "<div>\n",
              "<style scoped>\n",
              "    .dataframe tbody tr th:only-of-type {\n",
              "        vertical-align: middle;\n",
              "    }\n",
              "\n",
              "    .dataframe tbody tr th {\n",
              "        vertical-align: top;\n",
              "    }\n",
              "\n",
              "    .dataframe thead th {\n",
              "        text-align: right;\n",
              "    }\n",
              "</style>\n",
              "<table border=\"1\" class=\"dataframe\">\n",
              "  <thead>\n",
              "    <tr style=\"text-align: right;\">\n",
              "      <th></th>\n",
              "      <th>High</th>\n",
              "      <th>Low</th>\n",
              "      <th>Open</th>\n",
              "      <th>Close</th>\n",
              "      <th>Volume</th>\n",
              "      <th>Adj Close</th>\n",
              "    </tr>\n",
              "    <tr>\n",
              "      <th>Date</th>\n",
              "      <th></th>\n",
              "      <th></th>\n",
              "      <th></th>\n",
              "      <th></th>\n",
              "      <th></th>\n",
              "      <th></th>\n",
              "    </tr>\n",
              "  </thead>\n",
              "  <tbody>\n",
              "    <tr>\n",
              "      <th>2021-03-01</th>\n",
              "      <td>41319.687500</td>\n",
              "      <td>37313.160156</td>\n",
              "      <td>37350.476562</td>\n",
              "      <td>41192.191406</td>\n",
              "      <td>44727892898</td>\n",
              "      <td>41192.191406</td>\n",
              "    </tr>\n",
              "    <tr>\n",
              "      <th>2021-03-02</th>\n",
              "      <td>41606.484375</td>\n",
              "      <td>39066.093750</td>\n",
              "      <td>41176.312500</td>\n",
              "      <td>40032.695312</td>\n",
              "      <td>39330914776</td>\n",
              "      <td>40032.695312</td>\n",
              "    </tr>\n",
              "    <tr>\n",
              "      <th>2021-03-03</th>\n",
              "      <td>43555.671875</td>\n",
              "      <td>39945.792969</td>\n",
              "      <td>40063.167969</td>\n",
              "      <td>41952.804688</td>\n",
              "      <td>44179660436</td>\n",
              "      <td>41952.804688</td>\n",
              "    </tr>\n",
              "    <tr>\n",
              "      <th>2021-03-04</th>\n",
              "      <td>42899.511719</td>\n",
              "      <td>39813.218750</td>\n",
              "      <td>41939.574219</td>\n",
              "      <td>40578.535156</td>\n",
              "      <td>43739383062</td>\n",
              "      <td>40578.535156</td>\n",
              "    </tr>\n",
              "    <tr>\n",
              "      <th>2021-03-05</th>\n",
              "      <td>41470.574219</td>\n",
              "      <td>38919.175781</td>\n",
              "      <td>40550.011719</td>\n",
              "      <td>41076.527344</td>\n",
              "      <td>40823509587</td>\n",
              "      <td>41076.527344</td>\n",
              "    </tr>\n",
              "  </tbody>\n",
              "</table>\n",
              "</div>"
            ],
            "text/plain": [
              "                    High           Low  ...       Volume     Adj Close\n",
              "Date                                    ...                           \n",
              "2021-03-01  41319.687500  37313.160156  ...  44727892898  41192.191406\n",
              "2021-03-02  41606.484375  39066.093750  ...  39330914776  40032.695312\n",
              "2021-03-03  43555.671875  39945.792969  ...  44179660436  41952.804688\n",
              "2021-03-04  42899.511719  39813.218750  ...  43739383062  40578.535156\n",
              "2021-03-05  41470.574219  38919.175781  ...  40823509587  41076.527344\n",
              "\n",
              "[5 rows x 6 columns]"
            ]
          },
          "metadata": {
            "tags": []
          },
          "execution_count": 8
        }
      ]
    },
    {
      "cell_type": "code",
      "metadata": {
        "colab": {
          "base_uri": "https://localhost:8080/",
          "height": 235
        },
        "id": "LoaQVqj9dpm3",
        "outputId": "bec5e156-6a23-456d-d91d-4e397f6ff252"
      },
      "source": [
        "dataset_raw.tail()"
      ],
      "execution_count": null,
      "outputs": [
        {
          "output_type": "execute_result",
          "data": {
            "text/html": [
              "<div>\n",
              "<style scoped>\n",
              "    .dataframe tbody tr th:only-of-type {\n",
              "        vertical-align: middle;\n",
              "    }\n",
              "\n",
              "    .dataframe tbody tr th {\n",
              "        vertical-align: top;\n",
              "    }\n",
              "\n",
              "    .dataframe thead th {\n",
              "        text-align: right;\n",
              "    }\n",
              "</style>\n",
              "<table border=\"1\" class=\"dataframe\">\n",
              "  <thead>\n",
              "    <tr style=\"text-align: right;\">\n",
              "      <th></th>\n",
              "      <th>High</th>\n",
              "      <th>Low</th>\n",
              "      <th>Open</th>\n",
              "      <th>Close</th>\n",
              "      <th>Volume</th>\n",
              "      <th>Adj Close</th>\n",
              "    </tr>\n",
              "    <tr>\n",
              "      <th>Date</th>\n",
              "      <th></th>\n",
              "      <th></th>\n",
              "      <th></th>\n",
              "      <th></th>\n",
              "      <th></th>\n",
              "      <th></th>\n",
              "    </tr>\n",
              "  </thead>\n",
              "  <tbody>\n",
              "    <tr>\n",
              "      <th>2021-04-15</th>\n",
              "      <td>53170.593750</td>\n",
              "      <td>50238.839844</td>\n",
              "      <td>52850.015625</td>\n",
              "      <td>51386.250000</td>\n",
              "      <td>70347656605</td>\n",
              "      <td>51386.250000</td>\n",
              "    </tr>\n",
              "    <tr>\n",
              "      <th>2021-04-16</th>\n",
              "      <td>52222.050781</td>\n",
              "      <td>50376.921875</td>\n",
              "      <td>51350.472656</td>\n",
              "      <td>50646.050781</td>\n",
              "      <td>55198680900</td>\n",
              "      <td>50646.050781</td>\n",
              "    </tr>\n",
              "    <tr>\n",
              "      <th>2021-04-17</th>\n",
              "      <td>50957.882812</td>\n",
              "      <td>44089.468750</td>\n",
              "      <td>50661.125000</td>\n",
              "      <td>46968.792969</td>\n",
              "      <td>81435535596</td>\n",
              "      <td>46968.792969</td>\n",
              "    </tr>\n",
              "    <tr>\n",
              "      <th>2021-04-18</th>\n",
              "      <td>47856.800781</td>\n",
              "      <td>45194.273438</td>\n",
              "      <td>46948.238281</td>\n",
              "      <td>46276.832031</td>\n",
              "      <td>54266362065</td>\n",
              "      <td>46276.832031</td>\n",
              "    </tr>\n",
              "    <tr>\n",
              "      <th>2021-04-20</th>\n",
              "      <td>46851.710938</td>\n",
              "      <td>44331.605469</td>\n",
              "      <td>46324.355469</td>\n",
              "      <td>46524.781250</td>\n",
              "      <td>54431150080</td>\n",
              "      <td>46524.781250</td>\n",
              "    </tr>\n",
              "  </tbody>\n",
              "</table>\n",
              "</div>"
            ],
            "text/plain": [
              "                    High           Low  ...       Volume     Adj Close\n",
              "Date                                    ...                           \n",
              "2021-04-15  53170.593750  50238.839844  ...  70347656605  51386.250000\n",
              "2021-04-16  52222.050781  50376.921875  ...  55198680900  50646.050781\n",
              "2021-04-17  50957.882812  44089.468750  ...  81435535596  46968.792969\n",
              "2021-04-18  47856.800781  45194.273438  ...  54266362065  46276.832031\n",
              "2021-04-20  46851.710938  44331.605469  ...  54431150080  46524.781250\n",
              "\n",
              "[5 rows x 6 columns]"
            ]
          },
          "metadata": {
            "tags": []
          },
          "execution_count": 9
        }
      ]
    }
  ]
}